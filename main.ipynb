{
 "cells": [
  {
   "cell_type": "markdown",
   "source": [
    "# Libraries"
   ],
   "metadata": {}
  },
  {
   "cell_type": "code",
   "execution_count": 1,
   "source": [
    "# data prep\r\n",
    "import numpy as np\r\n",
    "import pandas as pd\r\n",
    "\r\n",
    "# scikit-learn \r\n",
    "from sklearn.compose import ColumnTransformer\r\n",
    "from sklearn.base import BaseEstimator, TransformerMixin\r\n",
    "from sklearn.pipeline import Pipeline\r\n",
    "from sklearn.impute import SimpleImputer\r\n",
    "from sklearn.preprocessing import StandardScaler, OneHotEncoder\r\n",
    "from sklearn.linear_model import LogisticRegression\r\n",
    "from sklearn.model_selection import train_test_split\r\n",
    "from sklearn.metrics import accuracy_score, precision_score, recall_score\r\n",
    "\r\n",
    "# mlflow\r\n",
    "import mlflow\r\n",
    "import mlflow.sklearn\r\n",
    "from mlflow.models.signature import infer_signature"
   ],
   "outputs": [],
   "metadata": {}
  },
  {
   "cell_type": "markdown",
   "source": [
    "# Loading data\r\n",
    "\r\n",
    "https://archive.ics.uci.edu/ml/datasets/Heart+Disease\r\n",
    "\r\n",
    "Features related to laboratory and physiological testing include:\r\n",
    "\r\n",
    "* Age of patient\r\n",
    "* Sex of patient\r\n",
    "* CP — chest pain type\r\n",
    "* Trestbps — resting blood pressure\r\n",
    "* Chol — serum cholesterol\r\n",
    "* FBS — fasting blood sugar\r\n",
    "* Restecg — resting electrocardiogram results\r\n",
    "* Thalach — maximum heart rate\r\n",
    "* Exang — exercise induced angina\r\n",
    "* Oldpeak — ST depression induced by exercise\r\n",
    "* Slope — slope of the peak exercise ST segment\r\n",
    "* CA — number of major vessels colored with flouroscopy\r\n",
    "* Thal — type of defect\r\n",
    "* Num — diagnosis of heart disease\r\n",
    "\r\n",
    "based on: https://towardsdatascience.com/machine-learning-model-development-and-deployment-with-mlflow-and-scikit-learn-pipelines-f658c39e4d58"
   ],
   "metadata": {}
  },
  {
   "cell_type": "code",
   "execution_count": 2,
   "source": [
    "# https link\r\n",
    "URL = 'https://archive.ics.uci.edu/ml/machine-learning-databases/heart-disease/processed.cleveland.data'\r\n",
    "\r\n",
    "# readind data\r\n",
    "df = pd.read_csv(URL, header=None, names=['age','sex','cp','trestbps','chol','fbs','restecg','thalach'\r\n",
    "                                                ,'exang','oldpeak','slope','ca','thal','num'])\r\n",
    "# set up target variable\r\n",
    "df['target'] = np.where(df['num'] > 0,1,0)\r\n",
    "df.head()"
   ],
   "outputs": [
    {
     "output_type": "execute_result",
     "data": {
      "text/plain": [
       "    age  sex   cp  trestbps   chol  fbs  restecg  thalach  exang  oldpeak  \\\n",
       "0  63.0  1.0  1.0     145.0  233.0  1.0      2.0    150.0    0.0      2.3   \n",
       "1  67.0  1.0  4.0     160.0  286.0  0.0      2.0    108.0    1.0      1.5   \n",
       "2  67.0  1.0  4.0     120.0  229.0  0.0      2.0    129.0    1.0      2.6   \n",
       "3  37.0  1.0  3.0     130.0  250.0  0.0      0.0    187.0    0.0      3.5   \n",
       "4  41.0  0.0  2.0     130.0  204.0  0.0      2.0    172.0    0.0      1.4   \n",
       "\n",
       "   slope   ca thal  num  target  \n",
       "0    3.0  0.0  6.0    0       0  \n",
       "1    2.0  3.0  3.0    2       1  \n",
       "2    2.0  2.0  7.0    1       1  \n",
       "3    3.0  0.0  3.0    0       0  \n",
       "4    1.0  0.0  3.0    0       0  "
      ],
      "text/html": [
       "<div>\n",
       "<style scoped>\n",
       "    .dataframe tbody tr th:only-of-type {\n",
       "        vertical-align: middle;\n",
       "    }\n",
       "\n",
       "    .dataframe tbody tr th {\n",
       "        vertical-align: top;\n",
       "    }\n",
       "\n",
       "    .dataframe thead th {\n",
       "        text-align: right;\n",
       "    }\n",
       "</style>\n",
       "<table border=\"1\" class=\"dataframe\">\n",
       "  <thead>\n",
       "    <tr style=\"text-align: right;\">\n",
       "      <th></th>\n",
       "      <th>age</th>\n",
       "      <th>sex</th>\n",
       "      <th>cp</th>\n",
       "      <th>trestbps</th>\n",
       "      <th>chol</th>\n",
       "      <th>fbs</th>\n",
       "      <th>restecg</th>\n",
       "      <th>thalach</th>\n",
       "      <th>exang</th>\n",
       "      <th>oldpeak</th>\n",
       "      <th>slope</th>\n",
       "      <th>ca</th>\n",
       "      <th>thal</th>\n",
       "      <th>num</th>\n",
       "      <th>target</th>\n",
       "    </tr>\n",
       "  </thead>\n",
       "  <tbody>\n",
       "    <tr>\n",
       "      <th>0</th>\n",
       "      <td>63.0</td>\n",
       "      <td>1.0</td>\n",
       "      <td>1.0</td>\n",
       "      <td>145.0</td>\n",
       "      <td>233.0</td>\n",
       "      <td>1.0</td>\n",
       "      <td>2.0</td>\n",
       "      <td>150.0</td>\n",
       "      <td>0.0</td>\n",
       "      <td>2.3</td>\n",
       "      <td>3.0</td>\n",
       "      <td>0.0</td>\n",
       "      <td>6.0</td>\n",
       "      <td>0</td>\n",
       "      <td>0</td>\n",
       "    </tr>\n",
       "    <tr>\n",
       "      <th>1</th>\n",
       "      <td>67.0</td>\n",
       "      <td>1.0</td>\n",
       "      <td>4.0</td>\n",
       "      <td>160.0</td>\n",
       "      <td>286.0</td>\n",
       "      <td>0.0</td>\n",
       "      <td>2.0</td>\n",
       "      <td>108.0</td>\n",
       "      <td>1.0</td>\n",
       "      <td>1.5</td>\n",
       "      <td>2.0</td>\n",
       "      <td>3.0</td>\n",
       "      <td>3.0</td>\n",
       "      <td>2</td>\n",
       "      <td>1</td>\n",
       "    </tr>\n",
       "    <tr>\n",
       "      <th>2</th>\n",
       "      <td>67.0</td>\n",
       "      <td>1.0</td>\n",
       "      <td>4.0</td>\n",
       "      <td>120.0</td>\n",
       "      <td>229.0</td>\n",
       "      <td>0.0</td>\n",
       "      <td>2.0</td>\n",
       "      <td>129.0</td>\n",
       "      <td>1.0</td>\n",
       "      <td>2.6</td>\n",
       "      <td>2.0</td>\n",
       "      <td>2.0</td>\n",
       "      <td>7.0</td>\n",
       "      <td>1</td>\n",
       "      <td>1</td>\n",
       "    </tr>\n",
       "    <tr>\n",
       "      <th>3</th>\n",
       "      <td>37.0</td>\n",
       "      <td>1.0</td>\n",
       "      <td>3.0</td>\n",
       "      <td>130.0</td>\n",
       "      <td>250.0</td>\n",
       "      <td>0.0</td>\n",
       "      <td>0.0</td>\n",
       "      <td>187.0</td>\n",
       "      <td>0.0</td>\n",
       "      <td>3.5</td>\n",
       "      <td>3.0</td>\n",
       "      <td>0.0</td>\n",
       "      <td>3.0</td>\n",
       "      <td>0</td>\n",
       "      <td>0</td>\n",
       "    </tr>\n",
       "    <tr>\n",
       "      <th>4</th>\n",
       "      <td>41.0</td>\n",
       "      <td>0.0</td>\n",
       "      <td>2.0</td>\n",
       "      <td>130.0</td>\n",
       "      <td>204.0</td>\n",
       "      <td>0.0</td>\n",
       "      <td>2.0</td>\n",
       "      <td>172.0</td>\n",
       "      <td>0.0</td>\n",
       "      <td>1.4</td>\n",
       "      <td>1.0</td>\n",
       "      <td>0.0</td>\n",
       "      <td>3.0</td>\n",
       "      <td>0</td>\n",
       "      <td>0</td>\n",
       "    </tr>\n",
       "  </tbody>\n",
       "</table>\n",
       "</div>"
      ]
     },
     "metadata": {},
     "execution_count": 2
    }
   ],
   "metadata": {}
  },
  {
   "cell_type": "markdown",
   "source": [
    "# Model\n",
    "\n",
    "Split our data up into train, validation, and test datasets"
   ],
   "metadata": {}
  },
  {
   "cell_type": "code",
   "execution_count": 3,
   "source": [
    "# Train and Test\r\n",
    "train, test = train_test_split(df, test_size=0.2)\r\n",
    "# Validation\r\n",
    "train, val = train_test_split(train, test_size=0.2)\r\n",
    "\r\n",
    "print(len(train), 'Train Examples')\r\n",
    "print(len(test), 'Test Examples')\r\n",
    "print(len(val), 'Validation Examples')\r\n"
   ],
   "outputs": [
    {
     "output_type": "stream",
     "name": "stdout",
     "text": [
      "193 Train Examples\n",
      "61 Test Examples\n",
      "49 Validation Examples\n"
     ]
    }
   ],
   "metadata": {}
  },
  {
   "cell_type": "markdown",
   "source": [
    "We are now ready to import our custom class and define the pipeline."
   ],
   "metadata": {}
  },
  {
   "cell_type": "code",
   "execution_count": 4,
   "source": [
    "from custom_class import NewFeatureTransformer\r\n",
    "\r\n",
    "#Define the Pipeline\r\n",
    "\r\n",
    "# numeric features\r\n",
    "numeric_features = ['age','trestbps','chol','thalach','oldpeak']\r\n",
    "numeric_transformer = Pipeline(steps=[\r\n",
    "     ('imputer', SimpleImputer(strategy='median')),\r\n",
    "     ('scaler', StandardScaler())])\r\n",
    "\r\n",
    "# categorical features\r\n",
    "categorical_features = [ 'cp','restecg','ca','thal','slope']\r\n",
    "categorical_transformer = Pipeline(steps=[ \r\n",
    "     ('imputer', SimpleImputer(strategy='constant',fill_value=0)),\r\n",
    "     ('onehot', OneHotEncoder(handle_unknown='ignore'))])\r\n",
    "\r\n",
    "# binary features\r\n",
    "binary_features = [ 'sex','fbs','exang']\r\n",
    "binary_transformer = Pipeline(steps=[\r\n",
    "     ('imputer',SimpleImputer(strategy='constant',fill_value=0))])\r\n",
    "\r\n",
    "new_features_input =  [ 'thalach','trestbps']\r\n",
    "new_transformer = Pipeline(steps=[\r\n",
    "     ('new', NewFeatureTransformer())])\r\n",
    "\r\n",
    "preprocessor = ColumnTransformer(\r\n",
    "     transformers=[\r\n",
    "          ('num', numeric_transformer, numeric_features),\r\n",
    "          ('cat', categorical_transformer, categorical_features),\r\n",
    "          ('binary', binary_transformer, binary_features),\r\n",
    "          ('new', new_transformer, new_features_input)])\r\n",
    "\r\n",
    "# Now join together the preprocessing with the classifier.\r\n",
    "clf = Pipeline(steps=[('preprocessor', preprocessor),\r\n",
    "     ('classifier', LogisticRegression())], verbose=True)\r\n",
    "\r\n",
    "#fit the pipeline\r\n",
    "clf.fit(train, train['target'].values)\r\n",
    "\r\n",
    "#create predictions for validation data\r\n",
    "y_pred = clf.predict(val)\r\n"
   ],
   "outputs": [
    {
     "output_type": "stream",
     "name": "stdout",
     "text": [
      "[Pipeline] ...... (step 1 of 2) Processing preprocessor, total=   0.1s\n",
      "[Pipeline] ........ (step 2 of 2) Processing classifier, total=   0.8s\n"
     ]
    }
   ],
   "metadata": {}
  },
  {
   "cell_type": "code",
   "execution_count": 5,
   "source": [
    "class ModelOut (mlflow.pyfunc.PythonModel):\r\n",
    "     def __init__(self, model):\r\n",
    "          self.model = model\r\n",
    "     def predict (self, context, model_input):\r\n",
    "          model_input.columns= map(str.lower,model_input.columns)\r\n",
    "          return self.model.predict_proba(model_input)[:,1]"
   ],
   "outputs": [],
   "metadata": {}
  },
  {
   "cell_type": "code",
   "execution_count": 6,
   "source": [
    "mlflow_conda={'channels': ['defaults'],\r\n",
    "     'name':'conda',\r\n",
    "     'dependencies': [ 'python=3.8', 'pip',\r\n",
    "     {'pip':['mlflow==1.11.0','scikit-learn==0.24.2','cloudpickle==1.5.0','pandas==1.3.1','numpy==1.21.1']}]}"
   ],
   "outputs": [],
   "metadata": {}
  },
  {
   "cell_type": "code",
   "execution_count": 7,
   "source": [
    "with mlflow.start_run():\r\n",
    "     #log metrics\r\n",
    "     mlflow.log_metric(\"accuracy\", accuracy_score( val['target'].values, y_pred))\r\n",
    "     mlflow.log_metric(\"precison\", precision_score( val['target'].values, y_pred))\r\n",
    "     mlflow.log_metric(\"recall\", recall_score( val['target'].values, y_pred))\r\n",
    "     \r\n",
    "     # log model\r\n",
    "     mlflow.pyfunc.log_model(   artifact_path=\"model\",\r\n",
    "                                python_model=ModelOut(model=clf,),\r\n",
    "                                code_path=['custom_class.py'],\r\n",
    "                                conda_env=mlflow_conda)\r\n",
    "     signature = infer_signature(val, y_pred)\r\n",
    "     \r\n",
    "     #print out the active run ID\r\n",
    "     run = mlflow.active_run()\r\n",
    "     print(\"Active run_id: {}\".format(run.info.run_id))"
   ],
   "outputs": [
    {
     "output_type": "stream",
     "name": "stdout",
     "text": [
      "Active run_id: 3dc5d9cf4f894a05ae970ba92ca7ffb9\n"
     ]
    },
    {
     "output_type": "stream",
     "name": "stderr",
     "text": [
      "C:\\Users\\debor\\anaconda3\\lib\\site-packages\\mlflow\\models\\signature.py:129: UserWarning: Hint: Inferred schema contains integer column(s). Integer columns in Python cannot represent missing values. If your input data contains missing values at inference time, it will be encoded as floats and will cause a schema enforcement error. The best way to avoid this problem is to infer the model schema based on a realistic data sample (training dataset) that includes missing values. Alternatively, you can declare integer columns as doubles (float64) whenever these columns may have missing values. See `Handling Integers With Missing Values <https://www.mlflow.org/docs/latest/models.html#handling-integers-with-missing-values>`_ for more details.\n",
      "  inputs = _infer_schema(model_input)\n"
     ]
    }
   ],
   "metadata": {}
  },
  {
   "cell_type": "code",
   "execution_count": null,
   "source": [],
   "outputs": [],
   "metadata": {}
  }
 ],
 "metadata": {
  "kernelspec": {
   "name": "python3",
   "display_name": "Python 3.8.10 64-bit ('base': conda)"
  },
  "language_info": {
   "codemirror_mode": {
    "name": "ipython",
    "version": 3
   },
   "file_extension": ".py",
   "mimetype": "text/x-python",
   "name": "python",
   "nbconvert_exporter": "python",
   "pygments_lexer": "ipython3",
   "version": "3.8.10"
  },
  "interpreter": {
   "hash": "dac21ce987034d86a3cbfe403b03f86a4b233ff287bf96fdce008fd4ea0804ad"
  }
 },
 "nbformat": 4,
 "nbformat_minor": 5
}